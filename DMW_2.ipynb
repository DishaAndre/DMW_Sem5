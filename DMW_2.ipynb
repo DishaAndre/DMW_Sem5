{
  "nbformat": 4,
  "nbformat_minor": 0,
  "metadata": {
    "colab": {
      "provenance": []
    },
    "kernelspec": {
      "name": "python3",
      "display_name": "Python 3"
    },
    "language_info": {
      "name": "python"
    }
  },
  "cells": [
    {
      "cell_type": "code",
      "execution_count": null,
      "metadata": {
        "id": "qJJmjB64f6yY"
      },
      "outputs": [],
      "source": [
        "import pandas as pd\n",
        "import numpy as np\n",
        "data = {\n",
        "    'Name':['A', 'B', 'C', '000000000D', 'E', 'F', 'G', 'H'],\n",
        "    'Gender':['Male', 'F', 'M', 'Female', 'M', 'male', 'female', 'M']\n",
        "}"
      ]
    },
    {
      "cell_type": "code",
      "source": [
        "df = pd.DataFrame(data)\n",
        "print(df)"
      ],
      "metadata": {
        "colab": {
          "base_uri": "https://localhost:8080/"
        },
        "id": "O0AZ85SgjMSY",
        "outputId": "80f4808d-cf73-40a4-c720-f8d06f151cc2"
      },
      "execution_count": null,
      "outputs": [
        {
          "output_type": "stream",
          "name": "stdout",
          "text": [
            "  Name  Gender\n",
            "0    A    Male\n",
            "1    B       F\n",
            "2    C       M\n",
            "3    D  Female\n",
            "4    E       M\n",
            "5    F    male\n",
            "6    G  female\n",
            "7    H       M\n"
          ]
        }
      ]
    },
    {
      "cell_type": "code",
      "source": [
        "df['Gender'] = df['Gender'].str.lower().str.strip()\n",
        "df['Gender'] = df['Gender'].replace({\n",
        "    'm': 'Male',\n",
        "    'male': 'Male',\n",
        "    'f': 'Female',\n",
        "    'female': 'Female'\n",
        "})"
      ],
      "metadata": {
        "id": "7gxv7QmGhI5Z"
      },
      "execution_count": null,
      "outputs": []
    },
    {
      "cell_type": "code",
      "source": [
        "print(df)"
      ],
      "metadata": {
        "colab": {
          "base_uri": "https://localhost:8080/"
        },
        "id": "FkLCtsFCjTHJ",
        "outputId": "4e1b2f4a-c82d-4012-83b6-db8443068b55"
      },
      "execution_count": null,
      "outputs": [
        {
          "output_type": "stream",
          "name": "stdout",
          "text": [
            "  Name  Gender\n",
            "0    A    Male\n",
            "1    B  Female\n",
            "2    C    Male\n",
            "3    D  Female\n",
            "4    E    Male\n",
            "5    F    Male\n",
            "6    G  Female\n",
            "7    H    Male\n"
          ]
        }
      ]
    },
    {
      "cell_type": "code",
      "source": [
        "import numpy as np\n",
        "import pandas as pd\n",
        "import matplotlib.pyplot as plt\n",
        "from scipy.stats import zscore\n",
        "\n",
        "#simulate data with outliers\n",
        "np.random.seed(42)\n",
        "data_normal = np.random.normal(loc=50, scale=10, size=100)\n",
        "data_outliers = np.array([150, 160, 170]) #outlier values\n",
        "data_combined = np.concatenate((data_normal, data_outliers))\n",
        "\n",
        "df = pd.DataFrame(data_combined, columns=[\"Features\"])\n",
        "df.sample(5)\n"
      ],
      "metadata": {
        "colab": {
          "base_uri": "https://localhost:8080/",
          "height": 206
        },
        "id": "-ayTaLAelpYA",
        "outputId": "b3d274f6-b462-466f-9363-ccaada7030ce"
      },
      "execution_count": null,
      "outputs": [
        {
          "output_type": "execute_result",
          "data": {
            "text/plain": [
              "     Features\n",
              "39  51.968612\n",
              "59  59.755451\n",
              "13  30.867198\n",
              "44  35.214780\n",
              "7   57.674347"
            ],
            "text/html": [
              "\n",
              "  <div id=\"df-9c7015d1-5234-4dac-882d-92a97cdcc9bf\" class=\"colab-df-container\">\n",
              "    <div>\n",
              "<style scoped>\n",
              "    .dataframe tbody tr th:only-of-type {\n",
              "        vertical-align: middle;\n",
              "    }\n",
              "\n",
              "    .dataframe tbody tr th {\n",
              "        vertical-align: top;\n",
              "    }\n",
              "\n",
              "    .dataframe thead th {\n",
              "        text-align: right;\n",
              "    }\n",
              "</style>\n",
              "<table border=\"1\" class=\"dataframe\">\n",
              "  <thead>\n",
              "    <tr style=\"text-align: right;\">\n",
              "      <th></th>\n",
              "      <th>Features</th>\n",
              "    </tr>\n",
              "  </thead>\n",
              "  <tbody>\n",
              "    <tr>\n",
              "      <th>39</th>\n",
              "      <td>51.968612</td>\n",
              "    </tr>\n",
              "    <tr>\n",
              "      <th>59</th>\n",
              "      <td>59.755451</td>\n",
              "    </tr>\n",
              "    <tr>\n",
              "      <th>13</th>\n",
              "      <td>30.867198</td>\n",
              "    </tr>\n",
              "    <tr>\n",
              "      <th>44</th>\n",
              "      <td>35.214780</td>\n",
              "    </tr>\n",
              "    <tr>\n",
              "      <th>7</th>\n",
              "      <td>57.674347</td>\n",
              "    </tr>\n",
              "  </tbody>\n",
              "</table>\n",
              "</div>\n",
              "    <div class=\"colab-df-buttons\">\n",
              "\n",
              "  <div class=\"colab-df-container\">\n",
              "    <button class=\"colab-df-convert\" onclick=\"convertToInteractive('df-9c7015d1-5234-4dac-882d-92a97cdcc9bf')\"\n",
              "            title=\"Convert this dataframe to an interactive table.\"\n",
              "            style=\"display:none;\">\n",
              "\n",
              "  <svg xmlns=\"http://www.w3.org/2000/svg\" height=\"24px\" viewBox=\"0 -960 960 960\">\n",
              "    <path d=\"M120-120v-720h720v720H120Zm60-500h600v-160H180v160Zm220 220h160v-160H400v160Zm0 220h160v-160H400v160ZM180-400h160v-160H180v160Zm440 0h160v-160H620v160ZM180-180h160v-160H180v160Zm440 0h160v-160H620v160Z\"/>\n",
              "  </svg>\n",
              "    </button>\n",
              "\n",
              "  <style>\n",
              "    .colab-df-container {\n",
              "      display:flex;\n",
              "      gap: 12px;\n",
              "    }\n",
              "\n",
              "    .colab-df-convert {\n",
              "      background-color: #E8F0FE;\n",
              "      border: none;\n",
              "      border-radius: 50%;\n",
              "      cursor: pointer;\n",
              "      display: none;\n",
              "      fill: #1967D2;\n",
              "      height: 32px;\n",
              "      padding: 0 0 0 0;\n",
              "      width: 32px;\n",
              "    }\n",
              "\n",
              "    .colab-df-convert:hover {\n",
              "      background-color: #E2EBFA;\n",
              "      box-shadow: 0px 1px 2px rgba(60, 64, 67, 0.3), 0px 1px 3px 1px rgba(60, 64, 67, 0.15);\n",
              "      fill: #174EA6;\n",
              "    }\n",
              "\n",
              "    .colab-df-buttons div {\n",
              "      margin-bottom: 4px;\n",
              "    }\n",
              "\n",
              "    [theme=dark] .colab-df-convert {\n",
              "      background-color: #3B4455;\n",
              "      fill: #D2E3FC;\n",
              "    }\n",
              "\n",
              "    [theme=dark] .colab-df-convert:hover {\n",
              "      background-color: #434B5C;\n",
              "      box-shadow: 0px 1px 3px 1px rgba(0, 0, 0, 0.15);\n",
              "      filter: drop-shadow(0px 1px 2px rgba(0, 0, 0, 0.3));\n",
              "      fill: #FFFFFF;\n",
              "    }\n",
              "  </style>\n",
              "\n",
              "    <script>\n",
              "      const buttonEl =\n",
              "        document.querySelector('#df-9c7015d1-5234-4dac-882d-92a97cdcc9bf button.colab-df-convert');\n",
              "      buttonEl.style.display =\n",
              "        google.colab.kernel.accessAllowed ? 'block' : 'none';\n",
              "\n",
              "      async function convertToInteractive(key) {\n",
              "        const element = document.querySelector('#df-9c7015d1-5234-4dac-882d-92a97cdcc9bf');\n",
              "        const dataTable =\n",
              "          await google.colab.kernel.invokeFunction('convertToInteractive',\n",
              "                                                    [key], {});\n",
              "        if (!dataTable) return;\n",
              "\n",
              "        const docLinkHtml = 'Like what you see? Visit the ' +\n",
              "          '<a target=\"_blank\" href=https://colab.research.google.com/notebooks/data_table.ipynb>data table notebook</a>'\n",
              "          + ' to learn more about interactive tables.';\n",
              "        element.innerHTML = '';\n",
              "        dataTable['output_type'] = 'display_data';\n",
              "        await google.colab.output.renderOutput(dataTable, element);\n",
              "        const docLink = document.createElement('div');\n",
              "        docLink.innerHTML = docLinkHtml;\n",
              "        element.appendChild(docLink);\n",
              "      }\n",
              "    </script>\n",
              "  </div>\n",
              "\n",
              "\n",
              "    <div id=\"df-96ec1bb3-024e-40fe-91da-2b43540672aa\">\n",
              "      <button class=\"colab-df-quickchart\" onclick=\"quickchart('df-96ec1bb3-024e-40fe-91da-2b43540672aa')\"\n",
              "                title=\"Suggest charts\"\n",
              "                style=\"display:none;\">\n",
              "\n",
              "<svg xmlns=\"http://www.w3.org/2000/svg\" height=\"24px\"viewBox=\"0 0 24 24\"\n",
              "     width=\"24px\">\n",
              "    <g>\n",
              "        <path d=\"M19 3H5c-1.1 0-2 .9-2 2v14c0 1.1.9 2 2 2h14c1.1 0 2-.9 2-2V5c0-1.1-.9-2-2-2zM9 17H7v-7h2v7zm4 0h-2V7h2v10zm4 0h-2v-4h2v4z\"/>\n",
              "    </g>\n",
              "</svg>\n",
              "      </button>\n",
              "\n",
              "<style>\n",
              "  .colab-df-quickchart {\n",
              "      --bg-color: #E8F0FE;\n",
              "      --fill-color: #1967D2;\n",
              "      --hover-bg-color: #E2EBFA;\n",
              "      --hover-fill-color: #174EA6;\n",
              "      --disabled-fill-color: #AAA;\n",
              "      --disabled-bg-color: #DDD;\n",
              "  }\n",
              "\n",
              "  [theme=dark] .colab-df-quickchart {\n",
              "      --bg-color: #3B4455;\n",
              "      --fill-color: #D2E3FC;\n",
              "      --hover-bg-color: #434B5C;\n",
              "      --hover-fill-color: #FFFFFF;\n",
              "      --disabled-bg-color: #3B4455;\n",
              "      --disabled-fill-color: #666;\n",
              "  }\n",
              "\n",
              "  .colab-df-quickchart {\n",
              "    background-color: var(--bg-color);\n",
              "    border: none;\n",
              "    border-radius: 50%;\n",
              "    cursor: pointer;\n",
              "    display: none;\n",
              "    fill: var(--fill-color);\n",
              "    height: 32px;\n",
              "    padding: 0;\n",
              "    width: 32px;\n",
              "  }\n",
              "\n",
              "  .colab-df-quickchart:hover {\n",
              "    background-color: var(--hover-bg-color);\n",
              "    box-shadow: 0 1px 2px rgba(60, 64, 67, 0.3), 0 1px 3px 1px rgba(60, 64, 67, 0.15);\n",
              "    fill: var(--button-hover-fill-color);\n",
              "  }\n",
              "\n",
              "  .colab-df-quickchart-complete:disabled,\n",
              "  .colab-df-quickchart-complete:disabled:hover {\n",
              "    background-color: var(--disabled-bg-color);\n",
              "    fill: var(--disabled-fill-color);\n",
              "    box-shadow: none;\n",
              "  }\n",
              "\n",
              "  .colab-df-spinner {\n",
              "    border: 2px solid var(--fill-color);\n",
              "    border-color: transparent;\n",
              "    border-bottom-color: var(--fill-color);\n",
              "    animation:\n",
              "      spin 1s steps(1) infinite;\n",
              "  }\n",
              "\n",
              "  @keyframes spin {\n",
              "    0% {\n",
              "      border-color: transparent;\n",
              "      border-bottom-color: var(--fill-color);\n",
              "      border-left-color: var(--fill-color);\n",
              "    }\n",
              "    20% {\n",
              "      border-color: transparent;\n",
              "      border-left-color: var(--fill-color);\n",
              "      border-top-color: var(--fill-color);\n",
              "    }\n",
              "    30% {\n",
              "      border-color: transparent;\n",
              "      border-left-color: var(--fill-color);\n",
              "      border-top-color: var(--fill-color);\n",
              "      border-right-color: var(--fill-color);\n",
              "    }\n",
              "    40% {\n",
              "      border-color: transparent;\n",
              "      border-right-color: var(--fill-color);\n",
              "      border-top-color: var(--fill-color);\n",
              "    }\n",
              "    60% {\n",
              "      border-color: transparent;\n",
              "      border-right-color: var(--fill-color);\n",
              "    }\n",
              "    80% {\n",
              "      border-color: transparent;\n",
              "      border-right-color: var(--fill-color);\n",
              "      border-bottom-color: var(--fill-color);\n",
              "    }\n",
              "    90% {\n",
              "      border-color: transparent;\n",
              "      border-bottom-color: var(--fill-color);\n",
              "    }\n",
              "  }\n",
              "</style>\n",
              "\n",
              "      <script>\n",
              "        async function quickchart(key) {\n",
              "          const quickchartButtonEl =\n",
              "            document.querySelector('#' + key + ' button');\n",
              "          quickchartButtonEl.disabled = true;  // To prevent multiple clicks.\n",
              "          quickchartButtonEl.classList.add('colab-df-spinner');\n",
              "          try {\n",
              "            const charts = await google.colab.kernel.invokeFunction(\n",
              "                'suggestCharts', [key], {});\n",
              "          } catch (error) {\n",
              "            console.error('Error during call to suggestCharts:', error);\n",
              "          }\n",
              "          quickchartButtonEl.classList.remove('colab-df-spinner');\n",
              "          quickchartButtonEl.classList.add('colab-df-quickchart-complete');\n",
              "        }\n",
              "        (() => {\n",
              "          let quickchartButtonEl =\n",
              "            document.querySelector('#df-96ec1bb3-024e-40fe-91da-2b43540672aa button');\n",
              "          quickchartButtonEl.style.display =\n",
              "            google.colab.kernel.accessAllowed ? 'block' : 'none';\n",
              "        })();\n",
              "      </script>\n",
              "    </div>\n",
              "\n",
              "    </div>\n",
              "  </div>\n"
            ],
            "application/vnd.google.colaboratory.intrinsic+json": {
              "type": "dataframe",
              "summary": "{\n  \"name\": \"df\",\n  \"rows\": 5,\n  \"fields\": [\n    {\n      \"column\": \"Features\",\n      \"properties\": {\n        \"dtype\": \"number\",\n        \"std\": 13.23294094604521,\n        \"min\": 30.86719755342202,\n        \"max\": 59.75545127122359,\n        \"num_unique_values\": 5,\n        \"samples\": [\n          59.75545127122359,\n          57.67434729152909,\n          30.86719755342202\n        ],\n        \"semantic_type\": \"\",\n        \"description\": \"\"\n      }\n    }\n  ]\n}"
            }
          },
          "metadata": {},
          "execution_count": 37
        }
      ]
    },
    {
      "cell_type": "code",
      "source": [
        "Q1 = df[\"Features\"].quantile(0.25)\n",
        "Q3 = df[\"Features\"].quantile(0.75)\n",
        "IQR = Q3 - Q1\n",
        "lower_bound = Q1 - 1.5 * IQR\n",
        "upper_bound = Q3 + 1.5 * IQR\n",
        "outliers_iqr = df[(df[\"Features\"] < lower_bound) | (df[\"Features\"] > upper_bound)]\n",
        "print(\"Outliers detected by IQR Method):\")\n",
        "print(outliers_iqr)"
      ],
      "metadata": {
        "colab": {
          "base_uri": "https://localhost:8080/"
        },
        "id": "5-wxDzmtl15h",
        "outputId": "ca78ca81-40a3-4af2-cbaf-089baeaa6c54"
      },
      "execution_count": null,
      "outputs": [
        {
          "output_type": "stream",
          "name": "stdout",
          "text": [
            "Outliers detected by IQR Method):\n",
            "       Features\n",
            "74    23.802549\n",
            "100  150.000000\n",
            "101  160.000000\n",
            "102  170.000000\n"
          ]
        }
      ]
    },
    {
      "cell_type": "code",
      "source": [
        "df[\"Zscore\"] = zscore(df[\"Features\"])\n",
        "print(df.sample)"
      ],
      "metadata": {
        "colab": {
          "base_uri": "https://localhost:8080/"
        },
        "id": "JaNzkp5tmVZY",
        "outputId": "3bd67e56-7ff6-407c-f339-337d081e3433"
      },
      "execution_count": null,
      "outputs": [
        {
          "output_type": "stream",
          "name": "stdout",
          "text": [
            "<bound method NDFrame.sample of        Features    Zscore\n",
            "0     54.967142  0.133673\n",
            "1     48.617357 -0.172588\n",
            "2     56.476885  0.206490\n",
            "3     65.230299  0.628682\n",
            "4     47.658466 -0.218836\n",
            "..          ...       ...\n",
            "98    50.051135 -0.103434\n",
            "99    47.654129 -0.219046\n",
            "100  150.000000  4.717263\n",
            "101  160.000000  5.199579\n",
            "102  170.000000  5.681895\n",
            "\n",
            "[103 rows x 2 columns]>\n"
          ]
        }
      ]
    },
    {
      "cell_type": "code",
      "source": [
        "outliers_z = df[df[\"Zscore\"].abs() > 3]\n",
        "\n",
        "print(\"\\nOutliers detected by Z-score Method):\")\n",
        "print(outliers_z)"
      ],
      "metadata": {
        "colab": {
          "base_uri": "https://localhost:8080/"
        },
        "id": "BDWc4liEqDh6",
        "outputId": "053cc560-9adf-4165-bcdf-d5c3c1cbb2ed"
      },
      "execution_count": null,
      "outputs": [
        {
          "output_type": "stream",
          "name": "stdout",
          "text": [
            "\n",
            "Outliers detected by Z-score Method):\n",
            "     Features    Zscore\n",
            "100     150.0  4.717263\n",
            "101     160.0  5.199579\n",
            "102     170.0  5.681895\n"
          ]
        }
      ]
    },
    {
      "cell_type": "code",
      "source": [
        "plt.figure(figsize=(6, 4))\n",
        "plt.boxplot(df[\"Features\"])\n",
        "plt.title(\"Boxplot of Features\")\n",
        "plt.ylabel(\"Features\")\n",
        "plt.show()"
      ],
      "metadata": {
        "colab": {
          "base_uri": "https://localhost:8080/",
          "height": 391
        },
        "id": "4CWcY-gMqJKH",
        "outputId": "b25b4e02-0e2c-463c-8499-2acf430510d7"
      },
      "execution_count": null,
      "outputs": [
        {
          "output_type": "display_data",
          "data": {
            "text/plain": [
              "<Figure size 600x400 with 1 Axes>"
            ],
            "image/png": "[encoded data removed]"
          },
          "metadata": {}
        }
      ]
    },
    {
      "cell_type": "code",
      "source": [
        "plt.figure(figsize=(6,4))\n"
      ],
      "metadata": {
        "id": "dbDA0FU8y1o4"
      },
      "execution_count": null,
      "outputs": []
    },
    {
      "cell_type": "code",
      "source": [
        "df = pd.read_excel('/content/sample_data/SY Data (1).xlsx')\n",
        "print(df)"
      ],
      "metadata": {
        "colab": {
          "base_uri": "https://localhost:8080/"
        },
        "id": "kDFreTahqQxh",
        "outputId": "bdd5071f-d55a-4d83-d2c7-2db6620338a1"
      },
      "execution_count": null,
      "outputs": [
        {
          "output_type": "stream",
          "name": "stdout",
          "text": [
            "     Sr No     PRN No              Student Name Year Academic Year  Semester  \\\n",
            "0        1  124B1B034   TALREJA TANMAY DEVANAND   SY       2025-26         1   \n",
            "1        2  124B1B067     KURSANGE YASH SANTOSH   SY       2025-26         1   \n",
            "2        3  124B1B174     ZAREKAR SIDDHI KISHOR   SY       2025-26         1   \n",
            "3        4  124B1B080      MEHUL SRINIVAS PYATI   SY       2025-26         1   \n",
            "4        5  124B1B309    GHULE VEDANT BABASAHEB   SY       2025-26         1   \n",
            "..     ...        ...                       ...  ...           ...       ...   \n",
            "895     53  124B1G082    RAJPUT SOHAM INDRASING   SY       2025-26         1   \n",
            "896     54  124B1G071      MALUSARE NILAY UTTAM   SY       2025-26         1   \n",
            "897     55  124B1G120          GUNJAL ANUJ ANIL   SY       2025-26         1   \n",
            "898     56  124B1G141        BHOSALE YASH VIJAY   SY       2025-26         1   \n",
            "899     57  124B1G135  WAGHMARE ADITYA RAMKISAN   SY       2025-26         1   \n",
            "\n",
            "    Pattern Division Course Code  \\\n",
            "0      2023        A   BSH23OE06   \n",
            "1      2023        A   BSH23OE06   \n",
            "2      2023        C   BSH23OE06   \n",
            "3      2023        B   BSH23OE06   \n",
            "4      2023        B   BSH23OE06   \n",
            "..      ...      ...         ...   \n",
            "895     NaN        B   BCE23OE01   \n",
            "896     NaN        B   BCE23OE01   \n",
            "897     NaN        C   BCE23OE01   \n",
            "898     NaN        C   BCE23OE01   \n",
            "899     NaN        C   BCE23OE01   \n",
            "\n",
            "                                           Course Name  Gender  \n",
            "0    Open Elective : Neural Network and Fuzzy Logic...    Male  \n",
            "1    Open Elective : Neural Network and Fuzzy Logic...    Male  \n",
            "2    Open Elective : Neural Network and Fuzzy Logic...  Female  \n",
            "3    Open Elective : Neural Network and Fuzzy Logic...    Male  \n",
            "4    Open Elective : Neural Network and Fuzzy Logic...    Male  \n",
            "..                                                 ...     ...  \n",
            "895  Open Elective : Fundamentals of Database Manag...    Male  \n",
            "896  Open Elective : Fundamentals of Database Manag...    Male  \n",
            "897  Open Elective : Fundamentals of Database Manag...    Male  \n",
            "898  Open Elective : Fundamentals of Database Manag...    Male  \n",
            "899  Open Elective : Fundamentals of Database Manag...    Male  \n",
            "\n",
            "[900 rows x 11 columns]\n"
          ]
        }
      ]
    },
    {
      "cell_type": "code",
      "source": [
        "df.columns"
      ],
      "metadata": {
        "colab": {
          "base_uri": "https://localhost:8080/"
        },
        "id": "mqNxrgL1rEex",
        "outputId": "0cd08811-316b-4f3a-dbb9-8deeda192e68"
      },
      "execution_count": null,
      "outputs": [
        {
          "output_type": "execute_result",
          "data": {
            "text/plain": [
              "Index(['Sr No', 'PRN No', 'Student Name', 'Year', 'Academic Year', 'Semester',\n",
              "       'Pattern', 'Division', 'Course Code', 'Course Name', 'Gender'],\n",
              "      dtype='object')"
            ]
          },
          "metadata": {},
          "execution_count": 44
        }
      ]
    },
    {
      "cell_type": "code",
      "source": [],
      "metadata": {
        "id": "mETNfXeKrEbb"
      },
      "execution_count": null,
      "outputs": []
    },
    {
      "cell_type": "code",
      "source": [],
      "metadata": {
        "id": "H8Kg0Hf7rL68"
      },
      "execution_count": null,
      "outputs": []
    },
    {
      "cell_type": "code",
      "source": [],
      "metadata": {
        "id": "8CxaTLHgrL4P"
      },
      "execution_count": null,
      "outputs": []
    }
  ]
}